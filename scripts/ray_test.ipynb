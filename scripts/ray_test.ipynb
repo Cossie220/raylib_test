{
 "cells": [
  {
   "cell_type": "code",
   "execution_count": null,
   "metadata": {},
   "outputs": [],
   "source": [
    "from ray.rllib.algorithms.ppo import PPOConfig\n",
    "from ray.tune.logger import pretty_print\n",
    "\n",
    "import gymnasium as gym\n",
    "\n",
    "import wandb\n",
    "from loguru import logger"
   ]
  },
  {
   "cell_type": "code",
   "execution_count": null,
   "metadata": {},
   "outputs": [],
   "source": [
    "wandb.init(\n",
    "    # set the wandb project where this run will be logged\n",
    "    project=\"ray_test\",\n",
    "    sync_tensorboard=True\n",
    ")\n",
    "\n",
    "algo = (\n",
    "    PPOConfig()\n",
    "    .rollouts(num_rollout_workers=8)\n",
    "    .resources(num_gpus=0)\n",
    "    .environment(env=\"CartPole-v1\")\n",
    "    .build()\n",
    ")"
   ]
  },
  {
   "cell_type": "code",
   "execution_count": null,
   "metadata": {},
   "outputs": [],
   "source": [
    "logger.info(\"starting training\")\n",
    "\n",
    "for i in range(20):\n",
    "    logger.info(f\"training step {i}\")\n",
    "    result = algo.train()\n",
    "\n",
    "    if i % 5 == 0:\n",
    "        checkpoint_dir = algo.save().checkpoint.path\n",
    "        logger.debug(f\"Checkpoint saved in directory {checkpoint_dir}\")\n",
    "\n",
    "logger.success(f\"succesfully trained network\")"
   ]
  },
  {
   "cell_type": "code",
   "execution_count": null,
   "metadata": {},
   "outputs": [],
   "source": [
    "import numpy as np\n",
    "import cv2\n",
    "\n",
    "size = (600, 400)\n",
    "\n",
    "result = cv2.VideoWriter('test.webm',  \n",
    "                         cv2.VideoWriter_fourcc(*'VP90'), \n",
    "                         25, size) \n",
    "\n",
    "env = gym.make(\"CartPole-v1\", render_mode=\"rgb_array\")\n",
    "\n",
    "obs, info = env.reset()\n",
    "\n",
    "logger.debug(f\"started rendering\")\n",
    "\n",
    "frames = []\n",
    "image = None\n",
    "\n",
    "for i in range(500):\n",
    "    action = algo.compute_single_action(\n",
    "        observation=obs,\n",
    "    )\n",
    "    obs, reward, done, truncated, _ = env.step(action)\n",
    "    image = env.render()\n",
    "    \n",
    "    image_array = np.asanyarray(image, dtype=np.uint8).reshape(400 ,600 ,3)\n",
    "    result.write(image_array)\n",
    "    frames.append(image_array)\n",
    "\n",
    "    if done:\n",
    "        logger.success(f\"done!\")\n",
    "        break\n",
    "\n",
    "result.release()"
   ]
  },
  {
   "cell_type": "code",
   "execution_count": null,
   "metadata": {},
   "outputs": [],
   "source": [
    "wandb.log({\"video\": wandb.Video(\"test.webm\", format=\"mp4\")})\n",
    "wandb.finish()"
   ]
  },
  {
   "cell_type": "code",
   "execution_count": null,
   "metadata": {},
   "outputs": [],
   "source": []
  }
 ],
 "metadata": {
  "kernelspec": {
   "display_name": "base",
   "language": "python",
   "name": "python3"
  },
  "language_info": {
   "codemirror_mode": {
    "name": "ipython",
    "version": 3
   },
   "file_extension": ".py",
   "mimetype": "text/x-python",
   "name": "python",
   "nbconvert_exporter": "python",
   "pygments_lexer": "ipython3",
   "version": "3.10.14"
  }
 },
 "nbformat": 4,
 "nbformat_minor": 2
}
